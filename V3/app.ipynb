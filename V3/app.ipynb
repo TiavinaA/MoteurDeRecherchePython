{
 "cells": [
  {
   "cell_type": "code",
   "execution_count": 1,
   "id": "360051d9",
   "metadata": {},
   "outputs": [],
   "source": [
    "import ipywidgets as widgets\n",
    "from IPython.display import display\n",
    "from IPython.display import clear_output\n",
    "from control_app import *\n",
    "from corpus import Corpus\n",
    "from corpusGenerator import *"
   ]
  },
  {
   "cell_type": "markdown",
   "id": "52bda518",
   "metadata": {},
   "source": [
    "# Bienvenue sur le moteur de recherche\n",
    "## Pour commencer, executez le bloc suivant.\n",
    "## vous pouvez charger un Corpus déjà existant en écrivant dans le champs dédié, un sujet dans la liste suivante :\n",
    "- france\n",
    "- biology\n",
    "- football\n",
    "\n",
    "## Vous pouvez aussi créer un corpus en écrivant le sujet et le nombre d'articles à enregistrer dans le corpus."
   ]
  },
  {
   "cell_type": "code",
   "execution_count": 4,
   "id": "8aa19e20",
   "metadata": {},
   "outputs": [
    {
     "data": {
      "application/vnd.jupyter.widget-view+json": {
       "model_id": "839a764896514707ab5aa77f47af93d7",
       "version_major": 2,
       "version_minor": 0
      },
      "text/plain": [
       "VBox(children=(RadioButtons(description='Choix du corpus:', options=('Créer un corpus', 'Charger un corpus'), …"
      ]
     },
     "metadata": {},
     "output_type": "display_data"
    },
    {
     "data": {
      "application/vnd.jupyter.widget-view+json": {
       "model_id": "8c42a46b530b418bbf59cfbad233ce2e",
       "version_major": 2,
       "version_minor": 0
      },
      "text/plain": [
       "Button(description='Exécuter', style=ButtonStyle())"
      ]
     },
     "metadata": {},
     "output_type": "display_data"
    }
   ],
   "source": [
    "# Créer un widget de bouton radio pour le choix entre créer et charger un corpus\n",
    "choix_corpus = widgets.RadioButtons(\n",
    "    options=['Créer un corpus', 'Charger un corpus'],\n",
    "    description='Choix du corpus:'\n",
    ")\n",
    "\n",
    "# Créer un widget de texte pour le sujet du corpus\n",
    "sujet_corpus = widgets.Text(\n",
    "    description='Sujet du corpus:',\n",
    "    disabled=True\n",
    ")\n",
    "\n",
    "# Créer un widget de texte pour le nombre d'articles\n",
    "nombre_articles = widgets.IntText(\n",
    "    value=10,  # Valeur par défaut\n",
    "    description='Nombre d\\'articles:',\n",
    "    disabled=True\n",
    ")\n",
    "\n",
    "# Créer un widget de texte pour le chemin du corpus à charger\n",
    "chemin_corpus = widgets.Text(\n",
    "    description='Sujet:',\n",
    "    disabled=True\n",
    ")\n",
    "query = None\n",
    "c = None\n",
    "\n",
    "# Créer un conteneur pour regrouper les widgets\n",
    "conteneur_widgets = widgets.VBox([choix_corpus, sujet_corpus, nombre_articles, chemin_corpus])\n",
    "\n",
    "\n",
    "# Attacher la fonction à l'événement de changement de valeur du widget de bouton radio\n",
    "choix_corpus.observe(lambda change: on_choix_change(change, choix_corpus, sujet_corpus, nombre_articles, chemin_corpus), names='value')\n",
    "\n",
    "# Créer un bouton pour déclencher l'action de création ou de chargement du corpus\n",
    "bouton_executer = widgets.Button(description='Exécuter')\n",
    "\n",
    "def on_bouton_executer_click(b):\n",
    "    global query,c\n",
    "    \n",
    "    if choix_corpus.value == 'Créer un corpus':\n",
    "        query = sujet_corpus.value\n",
    "        nArticle = nombre_articles.value\n",
    "        createCorpus(query, nArticle)\n",
    "    elif choix_corpus.value == 'Charger un corpus':\n",
    "        query = chemin_corpus.value\n",
    "        corpus_charge = Corpus('CorpusTest')\n",
    "        c = corpus_charge.load(query +'.pkl')\n",
    "        print(repr(c))\n",
    "# Attacher la fonction à l'événement de clic du bouton\n",
    "bouton_executer.on_click(on_bouton_executer_click)\n",
    "\n",
    "# Afficher le conteneur dans le notebook\n",
    "display(conteneur_widgets)\n",
    "display(bouton_executer)\n"
   ]
  },
  {
   "cell_type": "markdown",
   "id": "6346a5bd",
   "metadata": {},
   "source": [
    "# Moteur de Recherche\n",
    "## Inscrivez un ou plusieurs mots clés dans la barre de recherche\n",
    "## Vous pouvez filtrer les résultats selon la source ou l'auteur"
   ]
  },
  {
   "cell_type": "code",
   "execution_count": 3,
   "id": "1158a16d",
   "metadata": {},
   "outputs": [
    {
     "name": "stderr",
     "output_type": "stream",
     "text": [
      "c:\\Users\\Tiavina\\anaconda3\\envs\\ProjetRedditArxiv\\Lib\\site-packages\\sklearn\\feature_extraction\\text.py:525: UserWarning: The parameter 'token_pattern' will not be used since 'tokenizer' is not None'\n",
      "  warnings.warn(\n"
     ]
    },
    {
     "data": {
      "application/vnd.jupyter.widget-view+json": {
       "model_id": "4549dc9fef334b30a0450ec80ac10e2c",
       "version_major": 2,
       "version_minor": 0
      },
      "text/plain": [
       "Text(value='', description='Rechercher :')"
      ]
     },
     "metadata": {},
     "output_type": "display_data"
    },
    {
     "data": {
      "application/vnd.jupyter.widget-view+json": {
       "model_id": "a7a393d385a245e18193cd9bb73bed16",
       "version_major": 2,
       "version_minor": 0
      },
      "text/plain": [
       "Text(value='', description='Auteur :')"
      ]
     },
     "metadata": {},
     "output_type": "display_data"
    },
    {
     "data": {
      "application/vnd.jupyter.widget-view+json": {
       "model_id": "41c7b97b33d145d59f4ecd11333e5ae1",
       "version_major": 2,
       "version_minor": 0
      },
      "text/plain": [
       "RadioButtons(description='Filtrer document:', options=('Tous', 'Arxiv', 'Reddit'), value='Tous')"
      ]
     },
     "metadata": {},
     "output_type": "display_data"
    },
    {
     "data": {
      "application/vnd.jupyter.widget-view+json": {
       "model_id": "4d896d87d4254d70be17e6ce10e0b7bc",
       "version_major": 2,
       "version_minor": 0
      },
      "text/plain": [
       "Button(description='Rechercher', style=ButtonStyle())"
      ]
     },
     "metadata": {},
     "output_type": "display_data"
    },
    {
     "data": {
      "application/vnd.jupyter.widget-view+json": {
       "model_id": "c1cb7de4b1a24a8dbb0d99c241dc83c3",
       "version_major": 2,
       "version_minor": 0
      },
      "text/plain": [
       "Output()"
      ]
     },
     "metadata": {},
     "output_type": "display_data"
    }
   ],
   "source": [
    "    # matrice et dictionnaire sans filtre : \n",
    "mainDico = c.createVocab()\n",
    "mainMat = c.createTFIDF()\n",
    "moteur_de_recherche(mainDico, mainMat, c)\n",
    "\n"
   ]
  }
 ],
 "metadata": {
  "kernelspec": {
   "display_name": "Python 3 (ipykernel)",
   "language": "python",
   "name": "python3"
  },
  "language_info": {
   "codemirror_mode": {
    "name": "ipython",
    "version": 3
   },
   "file_extension": ".py",
   "mimetype": "text/x-python",
   "name": "python",
   "nbconvert_exporter": "python",
   "pygments_lexer": "ipython3",
   "version": "3.11.5"
  }
 },
 "nbformat": 4,
 "nbformat_minor": 5
}
